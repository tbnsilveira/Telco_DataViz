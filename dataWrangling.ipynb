{
 "cells": [
  {
   "cell_type": "markdown",
   "metadata": {},
   "source": [
    "## Data parsing for Tableau Project (DataViz)"
   ]
  },
  {
   "cell_type": "code",
   "execution_count": 2,
   "metadata": {},
   "outputs": [],
   "source": [
    "library(tidyr)\n",
    "library(ggplot2)\n",
    "library(dplyr)"
   ]
  },
  {
   "cell_type": "code",
   "execution_count": 3,
   "metadata": {},
   "outputs": [],
   "source": [
    "## Since the data are in Portuguese, we need to define the appropriate 'fileEncoding'\n",
    "smp_total_2005 <- read.csv('Acessos_SMP_2005-200901_-_Total.csv', fileEncoding = 'ISO-8859-1', sep = ';')\n",
    "smp_total_2009 <- read.csv('Acessos_SMP_200902-2014_-_Total.csv', fileEncoding = 'ISO-8859-1', sep = ';')\n",
    "smp_total_2015 <- read.csv('Acessos_SMP_2015-2018_-_Total.csv', fileEncoding = 'ISO-8859-1', sep = ';')"
   ]
  },
  {
   "cell_type": "code",
   "execution_count": 35,
   "metadata": {},
   "outputs": [
    {
     "data": {
      "text/html": [
       "7743"
      ],
      "text/latex": [
       "7743"
      ],
      "text/markdown": [
       "7743"
      ],
      "text/plain": [
       "[1] 7743"
      ]
     },
     "metadata": {},
     "output_type": "display_data"
    }
   ],
   "source": [
    "nrow(smp_total_2015['2017.01'])"
   ]
  },
  {
   "cell_type": "code",
   "execution_count": 4,
   "metadata": {},
   "outputs": [
    {
     "data": {
      "text/html": [
       "<table>\n",
       "<thead><tr><th scope=col>Empresa</th><th scope=col>CNPJ</th><th scope=col>Grupo</th><th scope=col>Região</th><th scope=col>DDD</th><th scope=col>UF</th><th scope=col>Tecnologia</th><th scope=col>Tipo</th><th scope=col>X2015.01</th><th scope=col>X2015.02</th><th scope=col>⋯</th><th scope=col>X2017.08</th><th scope=col>X2017.09</th><th scope=col>X2017.10</th><th scope=col>X2017.11</th><th scope=col>X2017.12</th><th scope=col>X2018.01</th><th scope=col>X2018.02</th><th scope=col>X2018.03</th><th scope=col>X2018.04</th><th scope=col>X2018.05</th></tr></thead>\n",
       "<tbody>\n",
       "\t<tr><td>ALGAR CELULAR S/A   </td><td>5.835916e+12        </td><td>ALGAR (CTBC TELECOM)</td><td>Centro-Oeste        </td><td>64                  </td><td>GO                  </td><td>AMPS                </td><td>Banda Estreita Móvel</td><td>NA                  </td><td>NA                  </td><td>⋯                   </td><td>NA                  </td><td>NA                  </td><td>NA                  </td><td>NA                  </td><td>NA                  </td><td>NA                  </td><td>NA                  </td><td>NA                  </td><td>NA                  </td><td>NA                  </td></tr>\n",
       "\t<tr><td>ALGAR CELULAR S/A   </td><td>5.835916e+12        </td><td>ALGAR (CTBC TELECOM)</td><td>Centro-Oeste        </td><td>64                  </td><td>GO                  </td><td>CDMA                </td><td>Banda Estreita Móvel</td><td> 0                  </td><td> 0                  </td><td>⋯                   </td><td> 0                  </td><td> 0                  </td><td> 0                  </td><td> 0                  </td><td> 0                  </td><td> 0                  </td><td> 0                  </td><td> 0                  </td><td> 0                  </td><td> 0                  </td></tr>\n",
       "\t<tr><td>ALGAR CELULAR S/A   </td><td>5.835916e+12        </td><td>ALGAR (CTBC TELECOM)</td><td>Centro-Oeste        </td><td>64                  </td><td>GO                  </td><td>CDMA2000            </td><td>Banda Larga Móvel   </td><td>NA                  </td><td>NA                  </td><td>⋯                   </td><td>NA                  </td><td>NA                  </td><td>NA                  </td><td>NA                  </td><td>NA                  </td><td>NA                  </td><td>NA                  </td><td>NA                  </td><td>NA                  </td><td>NA                  </td></tr>\n",
       "</tbody>\n",
       "</table>\n"
      ],
      "text/latex": [
       "\\begin{tabular}{r|lllllllllllllllllllllllllllllllllllllllllllllllll}\n",
       " Empresa & CNPJ & Grupo & Região & DDD & UF & Tecnologia & Tipo & X2015.01 & X2015.02 & ⋯ & X2017.08 & X2017.09 & X2017.10 & X2017.11 & X2017.12 & X2018.01 & X2018.02 & X2018.03 & X2018.04 & X2018.05\\\\\n",
       "\\hline\n",
       "\t ALGAR CELULAR S/A    & 5.835916e+12         & ALGAR (CTBC TELECOM) & Centro-Oeste         & 64                   & GO                   & AMPS                 & Banda Estreita Móvel & NA                   & NA                   & ⋯                    & NA                   & NA                   & NA                   & NA                   & NA                   & NA                   & NA                   & NA                   & NA                   & NA                  \\\\\n",
       "\t ALGAR CELULAR S/A    & 5.835916e+12         & ALGAR (CTBC TELECOM) & Centro-Oeste         & 64                   & GO                   & CDMA                 & Banda Estreita Móvel &  0                   &  0                   & ⋯                    &  0                   &  0                   &  0                   &  0                   &  0                   &  0                   &  0                   &  0                   &  0                   &  0                  \\\\\n",
       "\t ALGAR CELULAR S/A    & 5.835916e+12         & ALGAR (CTBC TELECOM) & Centro-Oeste         & 64                   & GO                   & CDMA2000             & Banda Larga Móvel    & NA                   & NA                   & ⋯                    & NA                   & NA                   & NA                   & NA                   & NA                   & NA                   & NA                   & NA                   & NA                   & NA                  \\\\\n",
       "\\end{tabular}\n"
      ],
      "text/markdown": [
       "\n",
       "Empresa | CNPJ | Grupo | Região | DDD | UF | Tecnologia | Tipo | X2015.01 | X2015.02 | ⋯ | X2017.08 | X2017.09 | X2017.10 | X2017.11 | X2017.12 | X2018.01 | X2018.02 | X2018.03 | X2018.04 | X2018.05 | \n",
       "|---|---|---|\n",
       "| ALGAR CELULAR S/A    | 5.835916e+12         | ALGAR (CTBC TELECOM) | Centro-Oeste         | 64                   | GO                   | AMPS                 | Banda Estreita Móvel | NA                   | NA                   | ⋯                    | NA                   | NA                   | NA                   | NA                   | NA                   | NA                   | NA                   | NA                   | NA                   | NA                   | \n",
       "| ALGAR CELULAR S/A    | 5.835916e+12         | ALGAR (CTBC TELECOM) | Centro-Oeste         | 64                   | GO                   | CDMA                 | Banda Estreita Móvel |  0                   |  0                   | ⋯                    |  0                   |  0                   |  0                   |  0                   |  0                   |  0                   |  0                   |  0                   |  0                   |  0                   | \n",
       "| ALGAR CELULAR S/A    | 5.835916e+12         | ALGAR (CTBC TELECOM) | Centro-Oeste         | 64                   | GO                   | CDMA2000             | Banda Larga Móvel    | NA                   | NA                   | ⋯                    | NA                   | NA                   | NA                   | NA                   | NA                   | NA                   | NA                   | NA                   | NA                   | NA                   | \n",
       "\n",
       "\n"
      ],
      "text/plain": [
       "  Empresa           CNPJ         Grupo                Região       DDD UF\n",
       "1 ALGAR CELULAR S/A 5.835916e+12 ALGAR (CTBC TELECOM) Centro-Oeste 64  GO\n",
       "2 ALGAR CELULAR S/A 5.835916e+12 ALGAR (CTBC TELECOM) Centro-Oeste 64  GO\n",
       "3 ALGAR CELULAR S/A 5.835916e+12 ALGAR (CTBC TELECOM) Centro-Oeste 64  GO\n",
       "  Tecnologia Tipo                 X2015.01 X2015.02 ⋯ X2017.08 X2017.09\n",
       "1 AMPS       Banda Estreita Móvel NA       NA       ⋯ NA       NA      \n",
       "2 CDMA       Banda Estreita Móvel  0        0       ⋯  0        0      \n",
       "3 CDMA2000   Banda Larga Móvel    NA       NA       ⋯ NA       NA      \n",
       "  X2017.10 X2017.11 X2017.12 X2018.01 X2018.02 X2018.03 X2018.04 X2018.05\n",
       "1 NA       NA       NA       NA       NA       NA       NA       NA      \n",
       "2  0        0        0        0        0        0        0        0      \n",
       "3 NA       NA       NA       NA       NA       NA       NA       NA      "
      ]
     },
     "metadata": {},
     "output_type": "display_data"
    }
   ],
   "source": [
    "head(smp_total_2015,3)"
   ]
  },
  {
   "cell_type": "markdown",
   "metadata": {},
   "source": [
    "### Cleaning the column names that refer to date:"
   ]
  },
  {
   "cell_type": "code",
   "execution_count": 5,
   "metadata": {},
   "outputs": [
    {
     "data": {
      "text/html": [
       "<ol class=list-inline>\n",
       "\t<li>'Razão.Social'</li>\n",
       "\t<li>'Grupo'</li>\n",
       "\t<li>'Região'</li>\n",
       "\t<li>'Tecnologia'</li>\n",
       "\t<li>'Tipo'</li>\n",
       "\t<li>'X2005.02'</li>\n",
       "\t<li>'X2005.03'</li>\n",
       "\t<li>'X2005.04'</li>\n",
       "\t<li>'X2005.05'</li>\n",
       "\t<li>'X2005.06'</li>\n",
       "</ol>\n"
      ],
      "text/latex": [
       "\\begin{enumerate*}\n",
       "\\item 'Razão.Social'\n",
       "\\item 'Grupo'\n",
       "\\item 'Região'\n",
       "\\item 'Tecnologia'\n",
       "\\item 'Tipo'\n",
       "\\item 'X2005.02'\n",
       "\\item 'X2005.03'\n",
       "\\item 'X2005.04'\n",
       "\\item 'X2005.05'\n",
       "\\item 'X2005.06'\n",
       "\\end{enumerate*}\n"
      ],
      "text/markdown": [
       "1. 'Razão.Social'\n",
       "2. 'Grupo'\n",
       "3. 'Região'\n",
       "4. 'Tecnologia'\n",
       "5. 'Tipo'\n",
       "6. 'X2005.02'\n",
       "7. 'X2005.03'\n",
       "8. 'X2005.04'\n",
       "9. 'X2005.05'\n",
       "10. 'X2005.06'\n",
       "\n",
       "\n"
      ],
      "text/plain": [
       " [1] \"Razão.Social\" \"Grupo\"        \"Região\"       \"Tecnologia\"   \"Tipo\"        \n",
       " [6] \"X2005.02\"     \"X2005.03\"     \"X2005.04\"     \"X2005.05\"     \"X2005.06\"    "
      ]
     },
     "metadata": {},
     "output_type": "display_data"
    }
   ],
   "source": [
    "head(names(smp_total_2005), 10)"
   ]
  },
  {
   "cell_type": "code",
   "execution_count": 6,
   "metadata": {},
   "outputs": [
    {
     "data": {
      "text/html": [
       "<ol class=list-inline>\n",
       "\t<li>'Empresa'</li>\n",
       "\t<li>'Grupo'</li>\n",
       "\t<li>'Região'</li>\n",
       "\t<li>'DDD'</li>\n",
       "\t<li>'UF'</li>\n",
       "\t<li>'Tecnologia'</li>\n",
       "\t<li>'Tipo'</li>\n",
       "\t<li>'X2009.02'</li>\n",
       "\t<li>'X2009.03'</li>\n",
       "\t<li>'X2009.04'</li>\n",
       "</ol>\n"
      ],
      "text/latex": [
       "\\begin{enumerate*}\n",
       "\\item 'Empresa'\n",
       "\\item 'Grupo'\n",
       "\\item 'Região'\n",
       "\\item 'DDD'\n",
       "\\item 'UF'\n",
       "\\item 'Tecnologia'\n",
       "\\item 'Tipo'\n",
       "\\item 'X2009.02'\n",
       "\\item 'X2009.03'\n",
       "\\item 'X2009.04'\n",
       "\\end{enumerate*}\n"
      ],
      "text/markdown": [
       "1. 'Empresa'\n",
       "2. 'Grupo'\n",
       "3. 'Região'\n",
       "4. 'DDD'\n",
       "5. 'UF'\n",
       "6. 'Tecnologia'\n",
       "7. 'Tipo'\n",
       "8. 'X2009.02'\n",
       "9. 'X2009.03'\n",
       "10. 'X2009.04'\n",
       "\n",
       "\n"
      ],
      "text/plain": [
       " [1] \"Empresa\"    \"Grupo\"      \"Região\"     \"DDD\"        \"UF\"        \n",
       " [6] \"Tecnologia\" \"Tipo\"       \"X2009.02\"   \"X2009.03\"   \"X2009.04\"  "
      ]
     },
     "metadata": {},
     "output_type": "display_data"
    }
   ],
   "source": [
    "head(names(smp_total_2009), 10)"
   ]
  },
  {
   "cell_type": "code",
   "execution_count": 7,
   "metadata": {},
   "outputs": [
    {
     "data": {
      "text/html": [
       "<ol class=list-inline>\n",
       "\t<li>'Empresa'</li>\n",
       "\t<li>'CNPJ'</li>\n",
       "\t<li>'Grupo'</li>\n",
       "\t<li>'Região'</li>\n",
       "\t<li>'DDD'</li>\n",
       "\t<li>'UF'</li>\n",
       "\t<li>'Tecnologia'</li>\n",
       "\t<li>'Tipo'</li>\n",
       "\t<li>'X2015.01'</li>\n",
       "\t<li>'X2015.02'</li>\n",
       "</ol>\n"
      ],
      "text/latex": [
       "\\begin{enumerate*}\n",
       "\\item 'Empresa'\n",
       "\\item 'CNPJ'\n",
       "\\item 'Grupo'\n",
       "\\item 'Região'\n",
       "\\item 'DDD'\n",
       "\\item 'UF'\n",
       "\\item 'Tecnologia'\n",
       "\\item 'Tipo'\n",
       "\\item 'X2015.01'\n",
       "\\item 'X2015.02'\n",
       "\\end{enumerate*}\n"
      ],
      "text/markdown": [
       "1. 'Empresa'\n",
       "2. 'CNPJ'\n",
       "3. 'Grupo'\n",
       "4. 'Região'\n",
       "5. 'DDD'\n",
       "6. 'UF'\n",
       "7. 'Tecnologia'\n",
       "8. 'Tipo'\n",
       "9. 'X2015.01'\n",
       "10. 'X2015.02'\n",
       "\n",
       "\n"
      ],
      "text/plain": [
       " [1] \"Empresa\"    \"CNPJ\"       \"Grupo\"      \"Região\"     \"DDD\"       \n",
       " [6] \"UF\"         \"Tecnologia\" \"Tipo\"       \"X2015.01\"   \"X2015.02\"  "
      ]
     },
     "metadata": {},
     "output_type": "display_data"
    }
   ],
   "source": [
    "head(names(smp_total_2015), 10)"
   ]
  },
  {
   "cell_type": "markdown",
   "metadata": {},
   "source": [
    "Since there is no UF information in the first dataset, we will discard it. Also, in the second dataset there is \"CNPJ\" information, which is not relevant for this analysis and so it will also be removed. "
   ]
  },
  {
   "cell_type": "code",
   "execution_count": 8,
   "metadata": {},
   "outputs": [],
   "source": [
    "smp_total_2015$CNPJ <- NULL"
   ]
  },
  {
   "cell_type": "markdown",
   "metadata": {},
   "source": [
    "We need now to remove the 'X' in front of the column names as well as converting them to Date format:  \n",
    "This [reference](https://uc-r.github.io/tidyr) was really helpful on teaching me how to use the gather() method in the right way."
   ]
  },
  {
   "cell_type": "code",
   "execution_count": 9,
   "metadata": {},
   "outputs": [],
   "source": [
    "## For the first dataset:\n",
    "colnames(smp_total_2009) <- gsub('X', '', colnames(smp_total_2009), fixed=TRUE)\n",
    "## For the second dataset: \n",
    "colnames(smp_total_2015) <- gsub('X', '', colnames(smp_total_2015), fixed=TRUE)"
   ]
  },
  {
   "cell_type": "code",
   "execution_count": 11,
   "metadata": {},
   "outputs": [],
   "source": [
    "long_2009 <- smp_total_2009 %>% gather(Date, Count, '2009.02':'2014.12')\n",
    "long_2015 <- smp_total_2015 %>% gather(Date, Count, '2015.01':'2018.05')"
   ]
  },
  {
   "cell_type": "code",
   "execution_count": 21,
   "metadata": {},
   "outputs": [
    {
     "data": {
      "text/html": [
       "<table>\n",
       "<thead><tr><th></th><th scope=col>Empresa</th><th scope=col>Grupo</th><th scope=col>Região</th><th scope=col>DDD</th><th scope=col>UF</th><th scope=col>Tecnologia</th><th scope=col>Tipo</th><th scope=col>Date</th><th scope=col>Count</th></tr></thead>\n",
       "<tbody>\n",
       "\t<tr><th scope=row>398164</th><td>VIVO S.A.           </td><td>TELEFÔNICA          </td><td>Sul                 </td><td>55                  </td><td>RS                  </td><td>Dados               </td><td>Banda Estreita Móvel</td><td>2014.12             </td><td>NA                  </td></tr>\n",
       "\t<tr><th scope=row>398165</th><td>VIVO S.A.                                                   </td><td>TELEFÔNICA                                                  </td><td>Sul                                                         </td><td>55                                                          </td><td>RS                                                          </td><td><span style=white-space:pre-wrap>Dados &gt; 256kbps  </span></td><td><span style=white-space:pre-wrap>Banda Larga Móvel   </span></td><td>2014.12                                                     </td><td>NA                                                          </td></tr>\n",
       "\t<tr><th scope=row>398166</th><td>VIVO S.A.           </td><td>TELEFÔNICA          </td><td>Sul                 </td><td>55                  </td><td>RS                  </td><td>Dados até 256kbps   </td><td>Banda Estreita Móvel</td><td>2014.12             </td><td>NA                  </td></tr>\n",
       "\t<tr><th scope=row>398167</th><td>VIVO S.A.           </td><td>TELEFÔNICA          </td><td>Sul                 </td><td>55                  </td><td>RS                  </td><td>M2M                 </td><td>Banda Estreita Móvel</td><td>2014.12             </td><td>NA                  </td></tr>\n",
       "\t<tr><th scope=row>398168</th><td>VIVO S.A.           </td><td>TELEFÔNICA          </td><td>Sul                 </td><td>55                  </td><td>RS                  </td><td>TDMA                </td><td>Banda Estreita Móvel</td><td>2014.12             </td><td>NA                  </td></tr>\n",
       "</tbody>\n",
       "</table>\n"
      ],
      "text/latex": [
       "\\begin{tabular}{r|lllllllll}\n",
       "  & Empresa & Grupo & Região & DDD & UF & Tecnologia & Tipo & Date & Count\\\\\n",
       "\\hline\n",
       "\t398164 & VIVO S.A.            & TELEFÔNICA           & Sul                  & 55                   & RS                   & Dados                & Banda Estreita Móvel & 2014.12              & NA                  \\\\\n",
       "\t398165 & VIVO S.A.            & TELEFÔNICA           & Sul                  & 55                   & RS                   & Dados > 256kbps      & Banda Larga Móvel    & 2014.12              & NA                  \\\\\n",
       "\t398166 & VIVO S.A.            & TELEFÔNICA           & Sul                  & 55                   & RS                   & Dados até 256kbps    & Banda Estreita Móvel & 2014.12              & NA                  \\\\\n",
       "\t398167 & VIVO S.A.            & TELEFÔNICA           & Sul                  & 55                   & RS                   & M2M                  & Banda Estreita Móvel & 2014.12              & NA                  \\\\\n",
       "\t398168 & VIVO S.A.            & TELEFÔNICA           & Sul                  & 55                   & RS                   & TDMA                 & Banda Estreita Móvel & 2014.12              & NA                  \\\\\n",
       "\\end{tabular}\n"
      ],
      "text/markdown": [
       "\n",
       "| <!--/--> | Empresa | Grupo | Região | DDD | UF | Tecnologia | Tipo | Date | Count | \n",
       "|---|---|---|---|---|\n",
       "| 398164 | VIVO S.A.            | TELEFÔNICA           | Sul                  | 55                   | RS                   | Dados                | Banda Estreita Móvel | 2014.12              | NA                   | \n",
       "| 398165 | VIVO S.A.            | TELEFÔNICA           | Sul                  | 55                   | RS                   | Dados > 256kbps      | Banda Larga Móvel    | 2014.12              | NA                   | \n",
       "| 398166 | VIVO S.A.            | TELEFÔNICA           | Sul                  | 55                   | RS                   | Dados até 256kbps    | Banda Estreita Móvel | 2014.12              | NA                   | \n",
       "| 398167 | VIVO S.A.            | TELEFÔNICA           | Sul                  | 55                   | RS                   | M2M                  | Banda Estreita Móvel | 2014.12              | NA                   | \n",
       "| 398168 | VIVO S.A.            | TELEFÔNICA           | Sul                  | 55                   | RS                   | TDMA                 | Banda Estreita Móvel | 2014.12              | NA                   | \n",
       "\n",
       "\n"
      ],
      "text/plain": [
       "       Empresa   Grupo      Região DDD UF Tecnologia       \n",
       "398164 VIVO S.A. TELEFÔNICA Sul    55  RS Dados            \n",
       "398165 VIVO S.A. TELEFÔNICA Sul    55  RS Dados > 256kbps  \n",
       "398166 VIVO S.A. TELEFÔNICA Sul    55  RS Dados até 256kbps\n",
       "398167 VIVO S.A. TELEFÔNICA Sul    55  RS M2M              \n",
       "398168 VIVO S.A. TELEFÔNICA Sul    55  RS TDMA             \n",
       "       Tipo                 Date    Count\n",
       "398164 Banda Estreita Móvel 2014.12 NA   \n",
       "398165 Banda Larga Móvel    2014.12 NA   \n",
       "398166 Banda Estreita Móvel 2014.12 NA   \n",
       "398167 Banda Estreita Móvel 2014.12 NA   \n",
       "398168 Banda Estreita Móvel 2014.12 NA   "
      ]
     },
     "metadata": {},
     "output_type": "display_data"
    }
   ],
   "source": [
    "tail(long_2009,5)"
   ]
  },
  {
   "cell_type": "markdown",
   "metadata": {},
   "source": [
    "Now, the next step is to clean the data dropping the NA values:"
   ]
  },
  {
   "cell_type": "code",
   "execution_count": 13,
   "metadata": {},
   "outputs": [],
   "source": [
    "smp2009 <- drop_na(long_2009)\n",
    "smp2015 <- drop_na(long_2015)"
   ]
  },
  {
   "cell_type": "code",
   "execution_count": 16,
   "metadata": {},
   "outputs": [
    {
     "data": {
      "text/html": [
       "<table>\n",
       "<thead><tr><th></th><th scope=col>Empresa</th><th scope=col>Grupo</th><th scope=col>Região</th><th scope=col>DDD</th><th scope=col>UF</th><th scope=col>Tecnologia</th><th scope=col>Tipo</th><th scope=col>Date</th><th scope=col>Count</th></tr></thead>\n",
       "<tbody>\n",
       "\t<tr><th scope=row>2</th><td>ALGAR CELULAR S/A   </td><td>ALGAR (CTBC TELECOM)</td><td>Centro-Oeste        </td><td>64                  </td><td>GO                  </td><td>CDMA                </td><td>Banda Estreita Móvel</td><td>2015.01             </td><td>   0                </td></tr>\n",
       "\t<tr><th scope=row>6</th><td>ALGAR CELULAR S/A   </td><td>ALGAR (CTBC TELECOM)</td><td>Centro-Oeste        </td><td>64                  </td><td>GO                  </td><td>Dados Banda Larga   </td><td>Banda Larga Móvel   </td><td>2015.01             </td><td>1073                </td></tr>\n",
       "\t<tr><th scope=row>8</th><td>ALGAR CELULAR S/A   </td><td>ALGAR (CTBC TELECOM)</td><td>Centro-Oeste        </td><td>64                  </td><td>GO                  </td><td>GSM                 </td><td>Banda Estreita Móvel</td><td>2015.01             </td><td>7810                </td></tr>\n",
       "\t<tr><th scope=row>9</th><td>ALGAR CELULAR S/A   </td><td>ALGAR (CTBC TELECOM)</td><td>Centro-Oeste        </td><td>64                  </td><td>GO                  </td><td>LTE                 </td><td>Banda Larga Móvel   </td><td>2015.01             </td><td>   0                </td></tr>\n",
       "\t<tr><th scope=row>11</th><td>ALGAR CELULAR S/A   </td><td>ALGAR (CTBC TELECOM)</td><td>Centro-Oeste        </td><td>64                  </td><td>GO                  </td><td>M2M Especial        </td><td>Banda Estreita Móvel</td><td>2015.01             </td><td>   0                </td></tr>\n",
       "\t<tr><th scope=row>12</th><td>ALGAR CELULAR S/A   </td><td>ALGAR (CTBC TELECOM)</td><td>Centro-Oeste        </td><td>64                  </td><td>GO                  </td><td>M2M Padrão          </td><td>Banda Estreita Móvel</td><td>2015.01             </td><td> 635                </td></tr>\n",
       "</tbody>\n",
       "</table>\n"
      ],
      "text/latex": [
       "\\begin{tabular}{r|lllllllll}\n",
       "  & Empresa & Grupo & Região & DDD & UF & Tecnologia & Tipo & Date & Count\\\\\n",
       "\\hline\n",
       "\t2 & ALGAR CELULAR S/A    & ALGAR (CTBC TELECOM) & Centro-Oeste         & 64                   & GO                   & CDMA                 & Banda Estreita Móvel & 2015.01              &    0                \\\\\n",
       "\t6 & ALGAR CELULAR S/A    & ALGAR (CTBC TELECOM) & Centro-Oeste         & 64                   & GO                   & Dados Banda Larga    & Banda Larga Móvel    & 2015.01              & 1073                \\\\\n",
       "\t8 & ALGAR CELULAR S/A    & ALGAR (CTBC TELECOM) & Centro-Oeste         & 64                   & GO                   & GSM                  & Banda Estreita Móvel & 2015.01              & 7810                \\\\\n",
       "\t9 & ALGAR CELULAR S/A    & ALGAR (CTBC TELECOM) & Centro-Oeste         & 64                   & GO                   & LTE                  & Banda Larga Móvel    & 2015.01              &    0                \\\\\n",
       "\t11 & ALGAR CELULAR S/A    & ALGAR (CTBC TELECOM) & Centro-Oeste         & 64                   & GO                   & M2M Especial         & Banda Estreita Móvel & 2015.01              &    0                \\\\\n",
       "\t12 & ALGAR CELULAR S/A    & ALGAR (CTBC TELECOM) & Centro-Oeste         & 64                   & GO                   & M2M Padrão           & Banda Estreita Móvel & 2015.01              &  635                \\\\\n",
       "\\end{tabular}\n"
      ],
      "text/markdown": [
       "\n",
       "| <!--/--> | Empresa | Grupo | Região | DDD | UF | Tecnologia | Tipo | Date | Count | \n",
       "|---|---|---|---|---|---|\n",
       "| 2 | ALGAR CELULAR S/A    | ALGAR (CTBC TELECOM) | Centro-Oeste         | 64                   | GO                   | CDMA                 | Banda Estreita Móvel | 2015.01              |    0                 | \n",
       "| 6 | ALGAR CELULAR S/A    | ALGAR (CTBC TELECOM) | Centro-Oeste         | 64                   | GO                   | Dados Banda Larga    | Banda Larga Móvel    | 2015.01              | 1073                 | \n",
       "| 8 | ALGAR CELULAR S/A    | ALGAR (CTBC TELECOM) | Centro-Oeste         | 64                   | GO                   | GSM                  | Banda Estreita Móvel | 2015.01              | 7810                 | \n",
       "| 9 | ALGAR CELULAR S/A    | ALGAR (CTBC TELECOM) | Centro-Oeste         | 64                   | GO                   | LTE                  | Banda Larga Móvel    | 2015.01              |    0                 | \n",
       "| 11 | ALGAR CELULAR S/A    | ALGAR (CTBC TELECOM) | Centro-Oeste         | 64                   | GO                   | M2M Especial         | Banda Estreita Móvel | 2015.01              |    0                 | \n",
       "| 12 | ALGAR CELULAR S/A    | ALGAR (CTBC TELECOM) | Centro-Oeste         | 64                   | GO                   | M2M Padrão           | Banda Estreita Móvel | 2015.01              |  635                 | \n",
       "\n",
       "\n"
      ],
      "text/plain": [
       "   Empresa           Grupo                Região       DDD UF Tecnologia       \n",
       "2  ALGAR CELULAR S/A ALGAR (CTBC TELECOM) Centro-Oeste 64  GO CDMA             \n",
       "6  ALGAR CELULAR S/A ALGAR (CTBC TELECOM) Centro-Oeste 64  GO Dados Banda Larga\n",
       "8  ALGAR CELULAR S/A ALGAR (CTBC TELECOM) Centro-Oeste 64  GO GSM              \n",
       "9  ALGAR CELULAR S/A ALGAR (CTBC TELECOM) Centro-Oeste 64  GO LTE              \n",
       "11 ALGAR CELULAR S/A ALGAR (CTBC TELECOM) Centro-Oeste 64  GO M2M Especial     \n",
       "12 ALGAR CELULAR S/A ALGAR (CTBC TELECOM) Centro-Oeste 64  GO M2M Padrão       \n",
       "   Tipo                 Date    Count\n",
       "2  Banda Estreita Móvel 2015.01    0 \n",
       "6  Banda Larga Móvel    2015.01 1073 \n",
       "8  Banda Estreita Móvel 2015.01 7810 \n",
       "9  Banda Larga Móvel    2015.01    0 \n",
       "11 Banda Estreita Móvel 2015.01    0 \n",
       "12 Banda Estreita Móvel 2015.01  635 "
      ]
     },
     "metadata": {},
     "output_type": "display_data"
    }
   ],
   "source": [
    "head(smp2015)"
   ]
  },
  {
   "cell_type": "markdown",
   "metadata": {},
   "source": [
    "To adjust the date format, we will add the first day of the month to each register:"
   ]
  },
  {
   "cell_type": "code",
   "execution_count": 17,
   "metadata": {},
   "outputs": [],
   "source": [
    "smp2009$Date <- as.Date(paste(smp2009$Date,'.01', sep=''), format = \"%Y.%m.%d\")\n",
    "smp2015$Date <- as.Date(paste(smp2015$Date,'.01', sep=''), format = \"%Y.%m.%d\")"
   ]
  },
  {
   "cell_type": "code",
   "execution_count": 18,
   "metadata": {},
   "outputs": [
    {
     "data": {
      "text/html": [
       "<table>\n",
       "<thead><tr><th></th><th scope=col>Empresa</th><th scope=col>Grupo</th><th scope=col>Região</th><th scope=col>DDD</th><th scope=col>UF</th><th scope=col>Tecnologia</th><th scope=col>Tipo</th><th scope=col>Date</th><th scope=col>Count</th></tr></thead>\n",
       "<tbody>\n",
       "\t<tr><th scope=row>315317</th><td>TIM CELULAR S.A.    </td><td>TELECOM ITALIA      </td><td>Sul                 </td><td>55                  </td><td>RS                  </td><td>Dados Banda Larga   </td><td>Banda Larga Móvel   </td><td>2018-05-01          </td><td>  277               </td></tr>\n",
       "\t<tr><th scope=row>315318</th><td>TIM CELULAR S.A.    </td><td>TELECOM ITALIA      </td><td>Sul                 </td><td>55                  </td><td>RS                  </td><td>GSM                 </td><td>Banda Estreita Móvel</td><td>2018-05-01          </td><td>35001               </td></tr>\n",
       "\t<tr><th scope=row>315319</th><td>TIM CELULAR S.A.    </td><td>TELECOM ITALIA      </td><td>Sul                 </td><td>55                  </td><td>RS                  </td><td>LTE                 </td><td>Banda Larga Móvel   </td><td>2018-05-01          </td><td>57010               </td></tr>\n",
       "\t<tr><th scope=row>315320</th><td>TIM CELULAR S.A.    </td><td>TELECOM ITALIA      </td><td>Sul                 </td><td>55                  </td><td>RS                  </td><td>M2M Especial        </td><td>Banda Estreita Móvel</td><td>2018-05-01          </td><td> 7182               </td></tr>\n",
       "\t<tr><th scope=row>315321</th><td>TIM CELULAR S.A.    </td><td>TELECOM ITALIA      </td><td>Sul                 </td><td>55                  </td><td>RS                  </td><td>M2M Padrão          </td><td>Banda Estreita Móvel</td><td>2018-05-01          </td><td> 7698               </td></tr>\n",
       "\t<tr><th scope=row>315322</th><td>TIM CELULAR S.A.    </td><td>TELECOM ITALIA      </td><td>Sul                 </td><td>55                  </td><td>RS                  </td><td>WCDMA               </td><td>Banda Larga Móvel   </td><td>2018-05-01          </td><td>33883               </td></tr>\n",
       "</tbody>\n",
       "</table>\n"
      ],
      "text/latex": [
       "\\begin{tabular}{r|lllllllll}\n",
       "  & Empresa & Grupo & Região & DDD & UF & Tecnologia & Tipo & Date & Count\\\\\n",
       "\\hline\n",
       "\t315317 & TIM CELULAR S.A.     & TELECOM ITALIA       & Sul                  & 55                   & RS                   & Dados Banda Larga    & Banda Larga Móvel    & 2018-05-01           &   277               \\\\\n",
       "\t315318 & TIM CELULAR S.A.     & TELECOM ITALIA       & Sul                  & 55                   & RS                   & GSM                  & Banda Estreita Móvel & 2018-05-01           & 35001               \\\\\n",
       "\t315319 & TIM CELULAR S.A.     & TELECOM ITALIA       & Sul                  & 55                   & RS                   & LTE                  & Banda Larga Móvel    & 2018-05-01           & 57010               \\\\\n",
       "\t315320 & TIM CELULAR S.A.     & TELECOM ITALIA       & Sul                  & 55                   & RS                   & M2M Especial         & Banda Estreita Móvel & 2018-05-01           &  7182               \\\\\n",
       "\t315321 & TIM CELULAR S.A.     & TELECOM ITALIA       & Sul                  & 55                   & RS                   & M2M Padrão           & Banda Estreita Móvel & 2018-05-01           &  7698               \\\\\n",
       "\t315322 & TIM CELULAR S.A.     & TELECOM ITALIA       & Sul                  & 55                   & RS                   & WCDMA                & Banda Larga Móvel    & 2018-05-01           & 33883               \\\\\n",
       "\\end{tabular}\n"
      ],
      "text/markdown": [
       "\n",
       "| <!--/--> | Empresa | Grupo | Região | DDD | UF | Tecnologia | Tipo | Date | Count | \n",
       "|---|---|---|---|---|---|\n",
       "| 315317 | TIM CELULAR S.A.     | TELECOM ITALIA       | Sul                  | 55                   | RS                   | Dados Banda Larga    | Banda Larga Móvel    | 2018-05-01           |   277                | \n",
       "| 315318 | TIM CELULAR S.A.     | TELECOM ITALIA       | Sul                  | 55                   | RS                   | GSM                  | Banda Estreita Móvel | 2018-05-01           | 35001                | \n",
       "| 315319 | TIM CELULAR S.A.     | TELECOM ITALIA       | Sul                  | 55                   | RS                   | LTE                  | Banda Larga Móvel    | 2018-05-01           | 57010                | \n",
       "| 315320 | TIM CELULAR S.A.     | TELECOM ITALIA       | Sul                  | 55                   | RS                   | M2M Especial         | Banda Estreita Móvel | 2018-05-01           |  7182                | \n",
       "| 315321 | TIM CELULAR S.A.     | TELECOM ITALIA       | Sul                  | 55                   | RS                   | M2M Padrão           | Banda Estreita Móvel | 2018-05-01           |  7698                | \n",
       "| 315322 | TIM CELULAR S.A.     | TELECOM ITALIA       | Sul                  | 55                   | RS                   | WCDMA                | Banda Larga Móvel    | 2018-05-01           | 33883                | \n",
       "\n",
       "\n"
      ],
      "text/plain": [
       "       Empresa          Grupo          Região DDD UF Tecnologia       \n",
       "315317 TIM CELULAR S.A. TELECOM ITALIA Sul    55  RS Dados Banda Larga\n",
       "315318 TIM CELULAR S.A. TELECOM ITALIA Sul    55  RS GSM              \n",
       "315319 TIM CELULAR S.A. TELECOM ITALIA Sul    55  RS LTE              \n",
       "315320 TIM CELULAR S.A. TELECOM ITALIA Sul    55  RS M2M Especial     \n",
       "315321 TIM CELULAR S.A. TELECOM ITALIA Sul    55  RS M2M Padrão       \n",
       "315322 TIM CELULAR S.A. TELECOM ITALIA Sul    55  RS WCDMA            \n",
       "       Tipo                 Date       Count\n",
       "315317 Banda Larga Móvel    2018-05-01   277\n",
       "315318 Banda Estreita Móvel 2018-05-01 35001\n",
       "315319 Banda Larga Móvel    2018-05-01 57010\n",
       "315320 Banda Estreita Móvel 2018-05-01  7182\n",
       "315321 Banda Estreita Móvel 2018-05-01  7698\n",
       "315322 Banda Larga Móvel    2018-05-01 33883"
      ]
     },
     "metadata": {},
     "output_type": "display_data"
    }
   ],
   "source": [
    "tail(smp2015)"
   ]
  },
  {
   "cell_type": "markdown",
   "metadata": {},
   "source": [
    "### Exporting the data"
   ]
  },
  {
   "cell_type": "code",
   "execution_count": 24,
   "metadata": {},
   "outputs": [],
   "source": [
    "write.csv(smp2009, file = 'smp_2009_tidy_v2.csv', row.names = FALSE)\n",
    "write.csv(smp2015, file = 'smp_2015_tidy_v2.csv', row.names = FALSE)"
   ]
  },
  {
   "cell_type": "code",
   "execution_count": null,
   "metadata": {},
   "outputs": [],
   "source": []
  }
 ],
 "metadata": {
  "kernelspec": {
   "display_name": "R [conda env:r_env]",
   "language": "R",
   "name": "conda-env-r_env-r"
  },
  "language_info": {
   "codemirror_mode": "r",
   "file_extension": ".r",
   "mimetype": "text/x-r-source",
   "name": "R",
   "pygments_lexer": "r",
   "version": "3.4.3"
  }
 },
 "nbformat": 4,
 "nbformat_minor": 2
}
